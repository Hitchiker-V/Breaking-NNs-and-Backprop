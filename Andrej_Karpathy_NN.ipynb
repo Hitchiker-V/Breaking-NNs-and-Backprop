{
  "nbformat": 4,
  "nbformat_minor": 0,
  "metadata": {
    "colab": {
      "name": "Andrej Karpathy NN",
      "provenance": [],
      "collapsed_sections": [],
      "authorship_tag": "ABX9TyNLNYe9EjgJCG0yjFOnh/3I",
      "include_colab_link": true
    },
    "kernelspec": {
      "name": "python3",
      "display_name": "Python 3"
    },
    "language_info": {
      "name": "python"
    }
  },
  "cells": [
    {
      "cell_type": "markdown",
      "metadata": {
        "id": "view-in-github",
        "colab_type": "text"
      },
      "source": [
        "<a href=\"https://colab.research.google.com/github/Hitchiker-V/Breaking-NNs-and-Backprop/blob/Part-1/Andrej_Karpathy_NN.ipynb\" target=\"_parent\"><img src=\"https://colab.research.google.com/assets/colab-badge.svg\" alt=\"Open In Colab\"/></a>"
      ]
    },
    {
      "cell_type": "code",
      "source": [
        "import math\n",
        "import numpy as np\n",
        "import matplotlib.pyplot as plt\n",
        "%matplotlib inline"
      ],
      "metadata": {
        "id": "lehEbN3PKME0"
      },
      "execution_count": null,
      "outputs": []
    },
    {
      "cell_type": "code",
      "source": [
        "# def f(x):\n",
        "#   return 3*x**2 - 4*x + 5"
      ],
      "metadata": {
        "id": "p4GvTE2RAz_R"
      },
      "execution_count": null,
      "outputs": []
    },
    {
      "cell_type": "code",
      "source": [
        "# f(3.0)"
      ],
      "metadata": {
        "id": "ZdSvGNfIA2dp"
      },
      "execution_count": null,
      "outputs": []
    },
    {
      "cell_type": "code",
      "source": [
        "# xs = np.arange(-5,5,0.25)\n",
        "# ys = f(xs)\n",
        "# plt.plot(xs, ys)"
      ],
      "metadata": {
        "id": "wIG_IZnPA8hi"
      },
      "execution_count": null,
      "outputs": []
    },
    {
      "cell_type": "code",
      "source": [
        ""
      ],
      "metadata": {
        "id": "s9Q-UCcDDVX1"
      },
      "execution_count": null,
      "outputs": []
    },
    {
      "cell_type": "code",
      "source": [
        "# Visualizing operation through GraphWiz\n",
        "\n",
        "from graphviz import Digraph\n",
        "\n",
        "def trace(root):\n",
        "  # building unique nodes and edges\n",
        "  nodes, edges = set(), set()\n",
        "  def build(v): # v denotes Value objects\n",
        "    if v not in nodes:\n",
        "      nodes.add(v)\n",
        "      for child in v._prev:\n",
        "        edges.add((child, v))\n",
        "        build(child)\n",
        "  build(root)\n",
        "  return nodes, edges\n",
        "\n",
        "def node_id(n):\n",
        "  return str(id(n))\n",
        "\n",
        "def draw_dot(root):\n",
        "  dot = Digraph(format = 'svg', graph_attr={'rankdir': 'LR'})\n",
        "\n",
        "  nodes, edges = trace(root)\n",
        "  for n in nodes:\n",
        "    uid = str(id(n))\n",
        "    dot.node(name = uid, label = \"{%s | data %.4f | grad %.4f }\" % (n.label, n.data, n.grad), shape = 'record')\n",
        "    if n._op:\n",
        "      # if node a result of some op, make an op node\n",
        "      dot.node(name = uid + n._op, label = n._op)\n",
        "      # connect op node to the prev node that was operated on\n",
        "      dot.edge(uid + n._op, uid)\n",
        "    \n",
        "  for n1, n2 in edges:\n",
        "      # connect n1 to op node of n2\n",
        "      dot.edge(node_id(n1), node_id(n2) + n2._op)\n",
        "\n",
        "  return dot"
      ],
      "metadata": {
        "id": "OyZaDo32B0M3"
      },
      "execution_count": null,
      "outputs": []
    },
    {
      "cell_type": "code",
      "source": [
        "#building micrograd's Value object and internal operators\n",
        "\n",
        "# class Value:\n",
        "#   def __init__(self, data):\n",
        "#     self.data = data\n",
        "  \n",
        "#   def __repr__(self):\n",
        "#     return f\"Value(data={self.data})\"\n",
        "  \n",
        "#   def __add__(self, other):\n",
        "#     return Value(self.data + other.data)\n",
        "  \n",
        "#   def __mul__(self, other):\n",
        "#     return Value(self.data*other.data)\n",
        "\n",
        "\n",
        "# a = Value(3.0)\n",
        "# b = Value(-7.5)\n",
        "# c = Value(10.0)\n",
        "\n",
        "# d = a*b + c\n",
        "\n",
        "# To implement above function, we need any add operator to include previous operation results, hence making changes to above. Also keeping track of which variable resulted from which final operator\n",
        "# class Value:\n",
        "#   def __init__(self, data, _children = (), _op='', label =''):\n",
        "#     self.data = data\n",
        "#     self._prev = set(_children) # using set to optmize for efficiency\n",
        "#     self._op = _op \n",
        "#     self.label = label\n",
        "#   def __repr__(self):\n",
        "#     return f\"Value(data={self.data})\"\n",
        "  \n",
        "#   def __add__(self, other):\n",
        "#     return Value(self.data + other.data, (self, other), '+')\n",
        "  \n",
        "#   def __mul__(self, other):\n",
        "#     return Value(self.data*other.data, (self, other), '*')\n",
        "  \n",
        "# a = Value(3.0, label = 'a')\n",
        "# b = Value(-7.5, label = 'b')\n",
        "# c = Value(10.0, label = 'c')\n",
        "# e = a*b; e.label = 'e'\n",
        "# d = e + c; d.label = 'd'\n",
        "# f = Value(-2.0, label = 'f')\n",
        "# L = d*f; L.label = 'L'"
      ],
      "metadata": {
        "id": "OqBmaKTpBIX7"
      },
      "execution_count": null,
      "outputs": []
    },
    {
      "cell_type": "markdown",
      "source": [
        ""
      ],
      "metadata": {
        "id": "kvpykeMKYNBd"
      }
    },
    {
      "cell_type": "code",
      "source": [
        "# Implementing gradient\n",
        "# class Value:\n",
        "#   def __init__(self, data, _children = (), _op='', label =''):\n",
        "#     self.data = data\n",
        "#     self.grad = 0 # At initial there is no impact on the variables when data changed\n",
        "#     self._prev = set(_children) # using set to optmize for efficiency\n",
        "#     ## definining backprop step\n",
        "#     self._backward = lambda : None\n",
        "#     self._op = _op \n",
        "#     self.label = label\n",
        "#   def __repr__(self):\n",
        "#     return f\"Value(data={self.data})\"\n",
        "  \n",
        "#   def __add__(self, other):\n",
        "#     out = Value(self.data + other.data, (self, other), '+')\n",
        "\n",
        "#     def _backward():\n",
        "#       self.grad = 1.0*out.grad\n",
        "#       other.grad = 1.0*out.grad\n",
        "#     out._backward = _backward\n",
        "    \n",
        "#     return out\n",
        "  \n",
        "#   def __mul__(self, other):\n",
        "#     out = Value(self.data*other.data, (self, other), '*')\n",
        "\n",
        "#     def _backward():\n",
        "#       self.grad = other.data * out.grad\n",
        "#       other.grad = self.data * out.grad\n",
        "#     out._backward = _backward\n",
        "\n",
        "#     return out\n",
        "\n",
        "#   # for activation function\n",
        "#   def tanh(self):\n",
        "#     n = self.data\n",
        "#     t = (math.exp(2*n)-1)/(math.exp(2*n)+1)\n",
        "#     out = Value(t, (self, ), 'tanh')\n",
        "\n",
        "#     def _backward():\n",
        "#       self.grad = (1-t**2) * out.grad\n",
        "#     out._backward = _backward\n",
        "\n",
        "#     return out\n",
        "\n",
        "# a = Value(3.0, label = 'a')\n",
        "# b = Value(-7.5, label = 'b')\n",
        "# c = Value(10.0, label = 'c')\n",
        "# e = a*b; e.label = 'e'\n",
        "# d = e + c; d.label = 'd'\n",
        "# f = Value(-2.0, label = 'f')\n",
        "# L = d*f; L.label = 'L'"
      ],
      "metadata": {
        "id": "WhY2qR6NRPRV"
      },
      "execution_count": null,
      "outputs": []
    },
    {
      "cell_type": "code",
      "source": [
        "# draw_dot(L)\n",
        "# grad visualizes the derivative of L wrt to L, f, d, e, c, b, a respectively"
      ],
      "metadata": {
        "id": "lNi_LpmEROt-"
      },
      "execution_count": null,
      "outputs": []
    },
    {
      "cell_type": "code",
      "source": [
        "# ## Implementing on a neuron\n",
        "\n",
        "# x1 = Value(2.0, label = 'x1')\n",
        "# x2 = Value(0.0, label = 'x2')\n",
        "# w1 = Value(-3.0, label = 'w1')\n",
        "# w2 = Value(1.0, label = 'w2')\n",
        "# b = Value(6.8813735870195432, label = 'b')\n",
        "\n",
        "# x1w1 = x1*w1; x1w1.label = 'x1w1'\n",
        "# x2w2 = x2*w2; x2w2.label = 'x2w2'\n",
        "# x1w1x2w2 = x1w1 + x2w2; x1w1x2w2.label = 'x1w1x2w2'\n",
        "\n",
        "# n = x1w1x2w2 + b; n.label = 'n'\n",
        "# o = n.tanh(); o.label = 'o'\n",
        "# draw_dot(o)\n"
      ],
      "metadata": {
        "id": "MfEDcT0sIvUy"
      },
      "execution_count": null,
      "outputs": []
    },
    {
      "cell_type": "code",
      "source": [
        "# o.grad = 1.0"
      ],
      "metadata": {
        "id": "QNvd13ULNG3W"
      },
      "execution_count": null,
      "outputs": []
    },
    {
      "cell_type": "code",
      "source": [
        "# o._backward()"
      ],
      "metadata": {
        "id": "rOT6QruQZR4z"
      },
      "execution_count": null,
      "outputs": []
    },
    {
      "cell_type": "code",
      "source": [
        "# draw_dot(o)"
      ],
      "metadata": {
        "id": "RE7ehoJTZVFG"
      },
      "execution_count": null,
      "outputs": []
    },
    {
      "cell_type": "code",
      "source": [
        "# n._backward()\n",
        "# draw_dot(o)"
      ],
      "metadata": {
        "id": "GarMAGNoZZq1"
      },
      "execution_count": null,
      "outputs": []
    },
    {
      "cell_type": "code",
      "source": [
        "# x1w1x2w2._backward()\n",
        "# draw_dot(o)"
      ],
      "metadata": {
        "id": "Yi02TTokZhLH"
      },
      "execution_count": null,
      "outputs": []
    },
    {
      "cell_type": "code",
      "source": [
        "# x1w1._backward()\n",
        "# x2w2._backward()\n",
        "# draw_dot(o)"
      ],
      "metadata": {
        "id": "PLp1AkYOZm6s"
      },
      "execution_count": null,
      "outputs": []
    },
    {
      "cell_type": "code",
      "source": [
        "# To implement backprop, the propogation should travel from top to botton : Using Topological Sort for it\n",
        "\n",
        "# o.grad = 1.0\n",
        "\n",
        "# topo = [] # Empty array containing the nodes in right order\n",
        "# visited = set() \n",
        "# def build_topo(v):\n",
        "#   if v not in visited:\n",
        "#    visited.add(v)\n",
        "#    for child in v._prev:\n",
        "#      build_topo(child)\n",
        "#    topo.append(v)\n",
        "\n",
        "# build_topo(o)\n",
        "# topo\n",
        "\n",
        "# ## Then implement _backward() method on this array sorted in topological order\n",
        "# for node in reversed(topo):\n",
        "#   node._backward()\n",
        "\n",
        "# draw_dot(o)"
      ],
      "metadata": {
        "id": "vJGfLEvYZyNv"
      },
      "execution_count": null,
      "outputs": []
    },
    {
      "cell_type": "code",
      "source": [
        "# Wrapping inside the value class itself\n",
        "\n",
        "#Buggy Implementation\n",
        "# class Value:\n",
        "#   def __init__(self, data, _children = (), _op='', label =''):\n",
        "#     self.data = data\n",
        "#     self.grad = 0 # At initial there is no impact on the variables when data changed\n",
        "#     self._prev = set(_children) # using set to optmize for efficiency\n",
        "#     ## definining backprop step\n",
        "#     self._backward = lambda : None\n",
        "#     self._op = _op \n",
        "#     self.label = label\n",
        "#   def __repr__(self):\n",
        "#     return f\"Value(data={self.data})\"\n",
        "  \n",
        "#   def __add__(self, other):\n",
        "#     out = Value(self.data + other.data, (self, other), '+')\n",
        "\n",
        "#     def _backward():\n",
        "#       self.grad = 1.0*out.grad\n",
        "#       other.grad = 1.0*out.grad\n",
        "#     out._backward = _backward\n",
        "    \n",
        "#     return out\n",
        "  \n",
        "#   def __mul__(self, other):\n",
        "#     out = Value(self.data*other.data, (self, other), '*')\n",
        "\n",
        "#     def _backward():\n",
        "#       self.grad = other.data * out.grad\n",
        "#       other.grad = self.data * out.grad\n",
        "#     out._backward = _backward\n",
        "\n",
        "#     return out\n",
        "\n",
        "#   # for activation function\n",
        "#   def tanh(self):\n",
        "#     n = self.data\n",
        "#     t = (math.exp(2*n)-1)/(math.exp(2*n)+1)\n",
        "#     out = Value(t, (self, ), 'tanh')\n",
        "\n",
        "#     def _backward():\n",
        "#       self.grad = (1-t**2) * out.grad\n",
        "#     out._backward = _backward\n",
        "\n",
        "#     return out\n",
        "  \n",
        "#   def backward(self): #topologically sorted back prop\n",
        "#     topo = [] # Empty array containing the nodes in right order\n",
        "#     visited = set() \n",
        "#     def build_topo(v):\n",
        "#       if v not in visited:\n",
        "#         visited.add(v)\n",
        "#       for child in v._prev:\n",
        "#         build_topo(child)\n",
        "#       topo.append(v)\n",
        "\n",
        "#     build_topo(self)\n",
        "\n",
        "#     self.grad = 1.0\n",
        "#     ## Then implement _backward() method on this array sorted in topological order\n",
        "#     for node in reversed(topo):\n",
        "#       node._backward()"
      ],
      "metadata": {
        "id": "dwteKL4CAUpH"
      },
      "execution_count": null,
      "outputs": []
    },
    {
      "cell_type": "code",
      "source": [
        "## Implementing on a neuron\n",
        "\n",
        "x1 = Value(2.0, label = 'x1')\n",
        "x2 = Value(0.0, label = 'x2')\n",
        "w1 = Value(-3.0, label = 'w1')\n",
        "w2 = Value(1.0, label = 'w2')\n",
        "b = Value(6.8813735870195432, label = 'b')\n",
        "\n",
        "x1w1 = x1*w1; x1w1.label = 'x1w1'\n",
        "x2w2 = x2*w2; x2w2.label = 'x2w2'\n",
        "x1w1x2w2 = x1w1 + x2w2; x1w1x2w2.label = 'x1w1x2w2'\n",
        "\n",
        "n = x1w1x2w2 + b; n.label = 'n'\n",
        "o = n.tanh(); o.label = 'o'\n",
        "draw_dot(o)\n",
        "\n",
        "o.backward()\n",
        "draw_dot(o)"
      ],
      "metadata": {
        "colab": {
          "base_uri": "https://localhost:8080/",
          "height": 321
        },
        "id": "uGi9m0GUApAe",
        "outputId": "171fe1e3-4683-4fdf-80f2-df1104aabc14"
      },
      "execution_count": null,
      "outputs": [
        {
          "output_type": "execute_result",
          "data": {
            "text/plain": [
              "<graphviz.dot.Digraph at 0x7f26e549ad90>"
            ],
            "image/svg+xml": "<?xml version=\"1.0\" encoding=\"UTF-8\" standalone=\"no\"?>\n<!DOCTYPE svg PUBLIC \"-//W3C//DTD SVG 1.1//EN\"\n \"http://www.w3.org/Graphics/SVG/1.1/DTD/svg11.dtd\">\n<!-- Generated by graphviz version 2.40.1 (20161225.0304)\n -->\n<!-- Title: %3 Pages: 1 -->\n<svg width=\"1600pt\" height=\"210pt\"\n viewBox=\"0.00 0.00 1600.00 210.00\" xmlns=\"http://www.w3.org/2000/svg\" xmlns:xlink=\"http://www.w3.org/1999/xlink\">\n<g id=\"graph0\" class=\"graph\" transform=\"scale(1 1) rotate(0) translate(4 206)\">\n<title>%3</title>\n<polygon fill=\"#ffffff\" stroke=\"transparent\" points=\"-4,4 -4,-206 1596,-206 1596,4 -4,4\"/>\n<!-- 139805032292880 -->\n<g id=\"node1\" class=\"node\">\n<title>139805032292880</title>\n<polygon fill=\"none\" stroke=\"#000000\" points=\"1074,-109.5 1074,-145.5 1270,-145.5 1270,-109.5 1074,-109.5\"/>\n<text text-anchor=\"middle\" x=\"1086\" y=\"-123.8\" font-family=\"Times,serif\" font-size=\"14.00\" fill=\"#000000\">n</text>\n<polyline fill=\"none\" stroke=\"#000000\" points=\"1098,-109.5 1098,-145.5 \"/>\n<text text-anchor=\"middle\" x=\"1140.5\" y=\"-123.8\" font-family=\"Times,serif\" font-size=\"14.00\" fill=\"#000000\">data 0.8814</text>\n<polyline fill=\"none\" stroke=\"#000000\" points=\"1183,-109.5 1183,-145.5 \"/>\n<text text-anchor=\"middle\" x=\"1226.5\" y=\"-123.8\" font-family=\"Times,serif\" font-size=\"14.00\" fill=\"#000000\">grad 0.5000</text>\n</g>\n<!-- 139805032292496tanh -->\n<g id=\"node6\" class=\"node\">\n<title>139805032292496tanh</title>\n<ellipse fill=\"none\" stroke=\"#000000\" cx=\"1333\" cy=\"-127.5\" rx=\"27\" ry=\"18\"/>\n<text text-anchor=\"middle\" x=\"1333\" y=\"-123.8\" font-family=\"Times,serif\" font-size=\"14.00\" fill=\"#000000\">tanh</text>\n</g>\n<!-- 139805032292880&#45;&gt;139805032292496tanh -->\n<g id=\"edge11\" class=\"edge\">\n<title>139805032292880&#45;&gt;139805032292496tanh</title>\n<path fill=\"none\" stroke=\"#000000\" d=\"M1270.2922,-127.5C1279.2042,-127.5 1287.8099,-127.5 1295.6423,-127.5\"/>\n<polygon fill=\"#000000\" stroke=\"#000000\" points=\"1295.7996,-131.0001 1305.7995,-127.5 1295.7995,-124.0001 1295.7996,-131.0001\"/>\n</g>\n<!-- 139805032292880+ -->\n<g id=\"node2\" class=\"node\">\n<title>139805032292880+</title>\n<ellipse fill=\"none\" stroke=\"#000000\" cx=\"1011\" cy=\"-127.5\" rx=\"27\" ry=\"18\"/>\n<text text-anchor=\"middle\" x=\"1011\" y=\"-123.8\" font-family=\"Times,serif\" font-size=\"14.00\" fill=\"#000000\">+</text>\n</g>\n<!-- 139805032292880+&#45;&gt;139805032292880 -->\n<g id=\"edge1\" class=\"edge\">\n<title>139805032292880+&#45;&gt;139805032292880</title>\n<path fill=\"none\" stroke=\"#000000\" d=\"M1038.3115,-127.5C1045.8223,-127.5 1054.4512,-127.5 1063.6318,-127.5\"/>\n<polygon fill=\"#000000\" stroke=\"#000000\" points=\"1063.7835,-131.0001 1073.7835,-127.5 1063.7835,-124.0001 1063.7835,-131.0001\"/>\n</g>\n<!-- 139805032296016 -->\n<g id=\"node3\" class=\"node\">\n<title>139805032296016</title>\n<polygon fill=\"none\" stroke=\"#000000\" points=\"339,-110.5 339,-146.5 561,-146.5 561,-110.5 339,-110.5\"/>\n<text text-anchor=\"middle\" x=\"364\" y=\"-124.8\" font-family=\"Times,serif\" font-size=\"14.00\" fill=\"#000000\">x2w2</text>\n<polyline fill=\"none\" stroke=\"#000000\" points=\"389,-110.5 389,-146.5 \"/>\n<text text-anchor=\"middle\" x=\"431.5\" y=\"-124.8\" font-family=\"Times,serif\" font-size=\"14.00\" fill=\"#000000\">data 0.0000</text>\n<polyline fill=\"none\" stroke=\"#000000\" points=\"474,-110.5 474,-146.5 \"/>\n<text text-anchor=\"middle\" x=\"517.5\" y=\"-124.8\" font-family=\"Times,serif\" font-size=\"14.00\" fill=\"#000000\">grad 0.5000</text>\n</g>\n<!-- 139805032292752+ -->\n<g id=\"node15\" class=\"node\">\n<title>139805032292752+</title>\n<ellipse fill=\"none\" stroke=\"#000000\" cx=\"626\" cy=\"-100.5\" rx=\"27\" ry=\"18\"/>\n<text text-anchor=\"middle\" x=\"626\" y=\"-96.8\" font-family=\"Times,serif\" font-size=\"14.00\" fill=\"#000000\">+</text>\n</g>\n<!-- 139805032296016&#45;&gt;139805032292752+ -->\n<g id=\"edge9\" class=\"edge\">\n<title>139805032296016&#45;&gt;139805032292752+</title>\n<path fill=\"none\" stroke=\"#000000\" d=\"M561.4635,-110.7672C571.4544,-109.1777 581.0101,-107.6575 589.562,-106.297\"/>\n<polygon fill=\"#000000\" stroke=\"#000000\" points=\"590.1316,-109.7504 599.4575,-104.7227 589.0317,-102.8374 590.1316,-109.7504\"/>\n</g>\n<!-- 139805032296016* -->\n<g id=\"node4\" class=\"node\">\n<title>139805032296016*</title>\n<ellipse fill=\"none\" stroke=\"#000000\" cx=\"274\" cy=\"-128.5\" rx=\"27\" ry=\"18\"/>\n<text text-anchor=\"middle\" x=\"274\" y=\"-124.8\" font-family=\"Times,serif\" font-size=\"14.00\" fill=\"#000000\">*</text>\n</g>\n<!-- 139805032296016*&#45;&gt;139805032296016 -->\n<g id=\"edge2\" class=\"edge\">\n<title>139805032296016*&#45;&gt;139805032296016</title>\n<path fill=\"none\" stroke=\"#000000\" d=\"M301.1143,-128.5C309.1416,-128.5 318.4948,-128.5 328.5303,-128.5\"/>\n<polygon fill=\"#000000\" stroke=\"#000000\" points=\"328.7696,-132.0001 338.7695,-128.5 328.7695,-125.0001 328.7696,-132.0001\"/>\n</g>\n<!-- 139805032292496 -->\n<g id=\"node5\" class=\"node\">\n<title>139805032292496</title>\n<polygon fill=\"none\" stroke=\"#000000\" points=\"1396,-109.5 1396,-145.5 1592,-145.5 1592,-109.5 1396,-109.5\"/>\n<text text-anchor=\"middle\" x=\"1408\" y=\"-123.8\" font-family=\"Times,serif\" font-size=\"14.00\" fill=\"#000000\">o</text>\n<polyline fill=\"none\" stroke=\"#000000\" points=\"1420,-109.5 1420,-145.5 \"/>\n<text text-anchor=\"middle\" x=\"1462.5\" y=\"-123.8\" font-family=\"Times,serif\" font-size=\"14.00\" fill=\"#000000\">data 0.7071</text>\n<polyline fill=\"none\" stroke=\"#000000\" points=\"1505,-109.5 1505,-145.5 \"/>\n<text text-anchor=\"middle\" x=\"1548.5\" y=\"-123.8\" font-family=\"Times,serif\" font-size=\"14.00\" fill=\"#000000\">grad 1.0000</text>\n</g>\n<!-- 139805032292496tanh&#45;&gt;139805032292496 -->\n<g id=\"edge3\" class=\"edge\">\n<title>139805032292496tanh&#45;&gt;139805032292496</title>\n<path fill=\"none\" stroke=\"#000000\" d=\"M1360.3115,-127.5C1367.8223,-127.5 1376.4512,-127.5 1385.6318,-127.5\"/>\n<polygon fill=\"#000000\" stroke=\"#000000\" points=\"1385.7835,-131.0001 1395.7835,-127.5 1385.7835,-124.0001 1385.7835,-131.0001\"/>\n</g>\n<!-- 139805166088848 -->\n<g id=\"node7\" class=\"node\">\n<title>139805166088848</title>\n<polygon fill=\"none\" stroke=\"#000000\" points=\"2,-165.5 2,-201.5 209,-201.5 209,-165.5 2,-165.5\"/>\n<text text-anchor=\"middle\" x=\"19.5\" y=\"-179.8\" font-family=\"Times,serif\" font-size=\"14.00\" fill=\"#000000\">w2</text>\n<polyline fill=\"none\" stroke=\"#000000\" points=\"37,-165.5 37,-201.5 \"/>\n<text text-anchor=\"middle\" x=\"79.5\" y=\"-179.8\" font-family=\"Times,serif\" font-size=\"14.00\" fill=\"#000000\">data 1.0000</text>\n<polyline fill=\"none\" stroke=\"#000000\" points=\"122,-165.5 122,-201.5 \"/>\n<text text-anchor=\"middle\" x=\"165.5\" y=\"-179.8\" font-family=\"Times,serif\" font-size=\"14.00\" fill=\"#000000\">grad 0.0000</text>\n</g>\n<!-- 139805166088848&#45;&gt;139805032296016* -->\n<g id=\"edge12\" class=\"edge\">\n<title>139805166088848&#45;&gt;139805032296016*</title>\n<path fill=\"none\" stroke=\"#000000\" d=\"M182.3017,-165.4558C192.0361,-162.698 201.8026,-159.6955 211,-156.5 221.6243,-152.8088 232.9373,-148.0548 243.0021,-143.5155\"/>\n<polygon fill=\"#000000\" stroke=\"#000000\" points=\"244.5909,-146.6371 252.2061,-139.271 241.6594,-140.2805 244.5909,-146.6371\"/>\n</g>\n<!-- 139805032293072 -->\n<g id=\"node8\" class=\"node\">\n<title>139805032293072</title>\n<polygon fill=\"none\" stroke=\"#000000\" points=\"337,-55.5 337,-91.5 563,-91.5 563,-55.5 337,-55.5\"/>\n<text text-anchor=\"middle\" x=\"362\" y=\"-69.8\" font-family=\"Times,serif\" font-size=\"14.00\" fill=\"#000000\">x1w1</text>\n<polyline fill=\"none\" stroke=\"#000000\" points=\"387,-55.5 387,-91.5 \"/>\n<text text-anchor=\"middle\" x=\"431.5\" y=\"-69.8\" font-family=\"Times,serif\" font-size=\"14.00\" fill=\"#000000\">data &#45;6.0000</text>\n<polyline fill=\"none\" stroke=\"#000000\" points=\"476,-55.5 476,-91.5 \"/>\n<text text-anchor=\"middle\" x=\"519.5\" y=\"-69.8\" font-family=\"Times,serif\" font-size=\"14.00\" fill=\"#000000\">grad 0.5000</text>\n</g>\n<!-- 139805032293072&#45;&gt;139805032292752+ -->\n<g id=\"edge7\" class=\"edge\">\n<title>139805032293072&#45;&gt;139805032292752+</title>\n<path fill=\"none\" stroke=\"#000000\" d=\"M563.4534,-90.9048C572.7031,-92.3238 581.5424,-93.6798 589.5117,-94.9024\"/>\n<polygon fill=\"#000000\" stroke=\"#000000\" points=\"589.0334,-98.3699 599.4485,-96.4268 590.0949,-91.4508 589.0334,-98.3699\"/>\n</g>\n<!-- 139805032293072* -->\n<g id=\"node9\" class=\"node\">\n<title>139805032293072*</title>\n<ellipse fill=\"none\" stroke=\"#000000\" cx=\"274\" cy=\"-73.5\" rx=\"27\" ry=\"18\"/>\n<text text-anchor=\"middle\" x=\"274\" y=\"-69.8\" font-family=\"Times,serif\" font-size=\"14.00\" fill=\"#000000\">*</text>\n</g>\n<!-- 139805032293072*&#45;&gt;139805032293072 -->\n<g id=\"edge4\" class=\"edge\">\n<title>139805032293072*&#45;&gt;139805032293072</title>\n<path fill=\"none\" stroke=\"#000000\" d=\"M301.1143,-73.5C308.7002,-73.5 317.4701,-73.5 326.881,-73.5\"/>\n<polygon fill=\"#000000\" stroke=\"#000000\" points=\"326.8975,-77.0001 336.8974,-73.5 326.8974,-70.0001 326.8975,-77.0001\"/>\n</g>\n<!-- 139805166088464 -->\n<g id=\"node10\" class=\"node\">\n<title>139805166088464</title>\n<polygon fill=\"none\" stroke=\"#000000\" points=\"3.5,-110.5 3.5,-146.5 207.5,-146.5 207.5,-110.5 3.5,-110.5\"/>\n<text text-anchor=\"middle\" x=\"19.5\" y=\"-124.8\" font-family=\"Times,serif\" font-size=\"14.00\" fill=\"#000000\">x2</text>\n<polyline fill=\"none\" stroke=\"#000000\" points=\"35.5,-110.5 35.5,-146.5 \"/>\n<text text-anchor=\"middle\" x=\"78\" y=\"-124.8\" font-family=\"Times,serif\" font-size=\"14.00\" fill=\"#000000\">data 0.0000</text>\n<polyline fill=\"none\" stroke=\"#000000\" points=\"120.5,-110.5 120.5,-146.5 \"/>\n<text text-anchor=\"middle\" x=\"164\" y=\"-124.8\" font-family=\"Times,serif\" font-size=\"14.00\" fill=\"#000000\">grad 0.5000</text>\n</g>\n<!-- 139805166088464&#45;&gt;139805032296016* -->\n<g id=\"edge6\" class=\"edge\">\n<title>139805166088464&#45;&gt;139805032296016*</title>\n<path fill=\"none\" stroke=\"#000000\" d=\"M207.888,-128.5C218.0786,-128.5 227.8975,-128.5 236.7094,-128.5\"/>\n<polygon fill=\"#000000\" stroke=\"#000000\" points=\"236.9159,-132.0001 246.9159,-128.5 236.9158,-125.0001 236.9159,-132.0001\"/>\n</g>\n<!-- 139805166088976 -->\n<g id=\"node11\" class=\"node\">\n<title>139805166088976</title>\n<polygon fill=\"none\" stroke=\"#000000\" points=\"1,-55.5 1,-91.5 210,-91.5 210,-55.5 1,-55.5\"/>\n<text text-anchor=\"middle\" x=\"17\" y=\"-69.8\" font-family=\"Times,serif\" font-size=\"14.00\" fill=\"#000000\">x1</text>\n<polyline fill=\"none\" stroke=\"#000000\" points=\"33,-55.5 33,-91.5 \"/>\n<text text-anchor=\"middle\" x=\"75.5\" y=\"-69.8\" font-family=\"Times,serif\" font-size=\"14.00\" fill=\"#000000\">data 2.0000</text>\n<polyline fill=\"none\" stroke=\"#000000\" points=\"118,-55.5 118,-91.5 \"/>\n<text text-anchor=\"middle\" x=\"164\" y=\"-69.8\" font-family=\"Times,serif\" font-size=\"14.00\" fill=\"#000000\">grad &#45;1.5000</text>\n</g>\n<!-- 139805166088976&#45;&gt;139805032293072* -->\n<g id=\"edge14\" class=\"edge\">\n<title>139805166088976&#45;&gt;139805032293072*</title>\n<path fill=\"none\" stroke=\"#000000\" d=\"M210.2974,-73.5C219.6043,-73.5 228.5549,-73.5 236.6562,-73.5\"/>\n<polygon fill=\"#000000\" stroke=\"#000000\" points=\"236.7755,-77.0001 246.7754,-73.5 236.7754,-70.0001 236.7755,-77.0001\"/>\n</g>\n<!-- 139805032336720 -->\n<g id=\"node12\" class=\"node\">\n<title>139805032336720</title>\n<polygon fill=\"none\" stroke=\"#000000\" points=\"0,-.5 0,-36.5 211,-36.5 211,-.5 0,-.5\"/>\n<text text-anchor=\"middle\" x=\"17.5\" y=\"-14.8\" font-family=\"Times,serif\" font-size=\"14.00\" fill=\"#000000\">w1</text>\n<polyline fill=\"none\" stroke=\"#000000\" points=\"35,-.5 35,-36.5 \"/>\n<text text-anchor=\"middle\" x=\"79.5\" y=\"-14.8\" font-family=\"Times,serif\" font-size=\"14.00\" fill=\"#000000\">data &#45;3.0000</text>\n<polyline fill=\"none\" stroke=\"#000000\" points=\"124,-.5 124,-36.5 \"/>\n<text text-anchor=\"middle\" x=\"167.5\" y=\"-14.8\" font-family=\"Times,serif\" font-size=\"14.00\" fill=\"#000000\">grad 1.0000</text>\n</g>\n<!-- 139805032336720&#45;&gt;139805032293072* -->\n<g id=\"edge13\" class=\"edge\">\n<title>139805032336720&#45;&gt;139805032293072*</title>\n<path fill=\"none\" stroke=\"#000000\" d=\"M179.1277,-36.5688C189.8946,-39.636 200.7889,-42.9778 211,-46.5 221.4855,-50.1168 232.6874,-54.6793 242.694,-59.0193\"/>\n<polygon fill=\"#000000\" stroke=\"#000000\" points=\"241.2981,-62.229 251.8592,-63.0741 244.1302,-55.8274 241.2981,-62.229\"/>\n</g>\n<!-- 139805166089040 -->\n<g id=\"node13\" class=\"node\">\n<title>139805166089040</title>\n<polygon fill=\"none\" stroke=\"#000000\" points=\"720.5,-137.5 720.5,-173.5 916.5,-173.5 916.5,-137.5 720.5,-137.5\"/>\n<text text-anchor=\"middle\" x=\"732.5\" y=\"-151.8\" font-family=\"Times,serif\" font-size=\"14.00\" fill=\"#000000\">b</text>\n<polyline fill=\"none\" stroke=\"#000000\" points=\"744.5,-137.5 744.5,-173.5 \"/>\n<text text-anchor=\"middle\" x=\"787\" y=\"-151.8\" font-family=\"Times,serif\" font-size=\"14.00\" fill=\"#000000\">data 6.8814</text>\n<polyline fill=\"none\" stroke=\"#000000\" points=\"829.5,-137.5 829.5,-173.5 \"/>\n<text text-anchor=\"middle\" x=\"873\" y=\"-151.8\" font-family=\"Times,serif\" font-size=\"14.00\" fill=\"#000000\">grad 0.5000</text>\n</g>\n<!-- 139805166089040&#45;&gt;139805032292880+ -->\n<g id=\"edge8\" class=\"edge\">\n<title>139805166089040&#45;&gt;139805032292880+</title>\n<path fill=\"none\" stroke=\"#000000\" d=\"M916.7238,-141.2129C937.2535,-138.2268 957.6635,-135.258 974.2156,-132.8505\"/>\n<polygon fill=\"#000000\" stroke=\"#000000\" points=\"975.106,-136.2579 984.4981,-131.3548 974.0984,-129.3308 975.106,-136.2579\"/>\n</g>\n<!-- 139805032292752 -->\n<g id=\"node14\" class=\"node\">\n<title>139805032292752</title>\n<polygon fill=\"none\" stroke=\"#000000\" points=\"689,-82.5 689,-118.5 948,-118.5 948,-82.5 689,-82.5\"/>\n<text text-anchor=\"middle\" x=\"730.5\" y=\"-96.8\" font-family=\"Times,serif\" font-size=\"14.00\" fill=\"#000000\">x1w1x2w2</text>\n<polyline fill=\"none\" stroke=\"#000000\" points=\"772,-82.5 772,-118.5 \"/>\n<text text-anchor=\"middle\" x=\"816.5\" y=\"-96.8\" font-family=\"Times,serif\" font-size=\"14.00\" fill=\"#000000\">data &#45;6.0000</text>\n<polyline fill=\"none\" stroke=\"#000000\" points=\"861,-82.5 861,-118.5 \"/>\n<text text-anchor=\"middle\" x=\"904.5\" y=\"-96.8\" font-family=\"Times,serif\" font-size=\"14.00\" fill=\"#000000\">grad 0.5000</text>\n</g>\n<!-- 139805032292752&#45;&gt;139805032292880+ -->\n<g id=\"edge10\" class=\"edge\">\n<title>139805032292752&#45;&gt;139805032292880+</title>\n<path fill=\"none\" stroke=\"#000000\" d=\"M946.9003,-118.5094C956.6957,-119.8833 965.9893,-121.1868 974.3056,-122.3532\"/>\n<polygon fill=\"#000000\" stroke=\"#000000\" points=\"973.8919,-125.8294 984.2811,-123.7524 974.8642,-118.8973 973.8919,-125.8294\"/>\n</g>\n<!-- 139805032292752+&#45;&gt;139805032292752 -->\n<g id=\"edge5\" class=\"edge\">\n<title>139805032292752+&#45;&gt;139805032292752</title>\n<path fill=\"none\" stroke=\"#000000\" d=\"M653.1723,-100.5C660.7103,-100.5 669.4431,-100.5 678.8791,-100.5\"/>\n<polygon fill=\"#000000\" stroke=\"#000000\" points=\"678.9464,-104.0001 688.9464,-100.5 678.9463,-97.0001 678.9464,-104.0001\"/>\n</g>\n</g>\n</svg>\n"
          },
          "metadata": {},
          "execution_count": 59
        }
      ]
    },
    {
      "cell_type": "code",
      "source": [
        "# There is a bug in the above implementation:\n",
        "# a = Value(-2.0) ; a.label = 'a'\n",
        "# b = Value(3.0) ; b.label = 'b'\n",
        "# d = a + b ; d.label = 'd'\n",
        "# e = a + b ; e.label = 'e'\n",
        "# f = d + e ; f.label = 'f'\n",
        "\n",
        "# c = a+b ; c.label = 'c'\n",
        "# d = a*b ; d.label = 'd'\n",
        "# e = c * d ; e.label = 'e'\n",
        "# draw_dot(e) \n",
        "# f.backward()\n",
        "# draw_dot(f)\n",
        "\n",
        "b = a + a ; b.label = 'b'\n",
        "b.backward()\n",
        "draw_dot(b)\n",
        "# Here a.grad should have been 2 but as in the backward(), we have self.grad = 1.0 + other.data, other.data = 1.0 + self.other\n",
        "# If self.data and other.data are same variables as in this case, the grad doesn't get updated but rather replaced.\n",
        "\n",
        "# Fix : Running summation of previous grads"
      ],
      "metadata": {
        "colab": {
          "base_uri": "https://localhost:8080/",
          "height": 81
        },
        "id": "Sv9uC17vD_dw",
        "outputId": "e2f6d5eb-d5aa-42f2-af6f-2ff476f6c1fc"
      },
      "execution_count": null,
      "outputs": [
        {
          "output_type": "execute_result",
          "data": {
            "text/plain": [
              "<graphviz.dot.Digraph at 0x7f26e5458750>"
            ],
            "image/svg+xml": "<?xml version=\"1.0\" encoding=\"UTF-8\" standalone=\"no\"?>\n<!DOCTYPE svg PUBLIC \"-//W3C//DTD SVG 1.1//EN\"\n \"http://www.w3.org/Graphics/SVG/1.1/DTD/svg11.dtd\">\n<!-- Generated by graphviz version 2.40.1 (20161225.0304)\n -->\n<!-- Title: %3 Pages: 1 -->\n<svg width=\"533pt\" height=\"45pt\"\n viewBox=\"0.00 0.00 533.00 45.00\" xmlns=\"http://www.w3.org/2000/svg\" xmlns:xlink=\"http://www.w3.org/1999/xlink\">\n<g id=\"graph0\" class=\"graph\" transform=\"scale(1 1) rotate(0) translate(4 41)\">\n<title>%3</title>\n<polygon fill=\"#ffffff\" stroke=\"transparent\" points=\"-4,4 -4,-41 529,-41 529,4 -4,4\"/>\n<!-- 139805032543120 -->\n<g id=\"node1\" class=\"node\">\n<title>139805032543120</title>\n<polygon fill=\"none\" stroke=\"#000000\" points=\"0,-.5 0,-36.5 199,-36.5 199,-.5 0,-.5\"/>\n<text text-anchor=\"middle\" x=\"11.5\" y=\"-14.8\" font-family=\"Times,serif\" font-size=\"14.00\" fill=\"#000000\">a</text>\n<polyline fill=\"none\" stroke=\"#000000\" points=\"23,-.5 23,-36.5 \"/>\n<text text-anchor=\"middle\" x=\"67.5\" y=\"-14.8\" font-family=\"Times,serif\" font-size=\"14.00\" fill=\"#000000\">data &#45;2.0000</text>\n<polyline fill=\"none\" stroke=\"#000000\" points=\"112,-.5 112,-36.5 \"/>\n<text text-anchor=\"middle\" x=\"155.5\" y=\"-14.8\" font-family=\"Times,serif\" font-size=\"14.00\" fill=\"#000000\">grad 1.0000</text>\n</g>\n<!-- 139805032022224+ -->\n<g id=\"node3\" class=\"node\">\n<title>139805032022224+</title>\n<ellipse fill=\"none\" stroke=\"#000000\" cx=\"262\" cy=\"-18.5\" rx=\"27\" ry=\"18\"/>\n<text text-anchor=\"middle\" x=\"262\" y=\"-14.8\" font-family=\"Times,serif\" font-size=\"14.00\" fill=\"#000000\">+</text>\n</g>\n<!-- 139805032543120&#45;&gt;139805032022224+ -->\n<g id=\"edge2\" class=\"edge\">\n<title>139805032543120&#45;&gt;139805032022224+</title>\n<path fill=\"none\" stroke=\"#000000\" d=\"M199.1733,-18.5C208.1163,-18.5 216.7449,-18.5 224.5942,-18.5\"/>\n<polygon fill=\"#000000\" stroke=\"#000000\" points=\"224.7711,-22.0001 234.7711,-18.5 224.7711,-15.0001 224.7711,-22.0001\"/>\n</g>\n<!-- 139805032022224 -->\n<g id=\"node2\" class=\"node\">\n<title>139805032022224</title>\n<polygon fill=\"none\" stroke=\"#000000\" points=\"325,-.5 325,-36.5 525,-36.5 525,-.5 325,-.5\"/>\n<text text-anchor=\"middle\" x=\"337\" y=\"-14.8\" font-family=\"Times,serif\" font-size=\"14.00\" fill=\"#000000\">b</text>\n<polyline fill=\"none\" stroke=\"#000000\" points=\"349,-.5 349,-36.5 \"/>\n<text text-anchor=\"middle\" x=\"393.5\" y=\"-14.8\" font-family=\"Times,serif\" font-size=\"14.00\" fill=\"#000000\">data &#45;4.0000</text>\n<polyline fill=\"none\" stroke=\"#000000\" points=\"438,-.5 438,-36.5 \"/>\n<text text-anchor=\"middle\" x=\"481.5\" y=\"-14.8\" font-family=\"Times,serif\" font-size=\"14.00\" fill=\"#000000\">grad 1.0000</text>\n</g>\n<!-- 139805032022224+&#45;&gt;139805032022224 -->\n<g id=\"edge1\" class=\"edge\">\n<title>139805032022224+&#45;&gt;139805032022224</title>\n<path fill=\"none\" stroke=\"#000000\" d=\"M289.2825,-18.5C296.8033,-18.5 305.4515,-18.5 314.6639,-18.5\"/>\n<polygon fill=\"#000000\" stroke=\"#000000\" points=\"314.8552,-22.0001 324.8552,-18.5 314.8552,-15.0001 314.8552,-22.0001\"/>\n</g>\n</g>\n</svg>\n"
          },
          "metadata": {},
          "execution_count": 68
        }
      ]
    },
    {
      "cell_type": "code",
      "source": [
        "# Fixed implementation\n",
        "class Value:\n",
        "  def __init__(self, data, _children = (), _op='', label =''):\n",
        "    self.data = data\n",
        "    self.grad = 0 # At initial there is no impact on the variables when data changed\n",
        "    self._prev = set(_children) # using set to optmize for efficiency\n",
        "    ## definining backprop step\n",
        "    self._backward = lambda : None\n",
        "    self._op = _op \n",
        "    self.label = label\n",
        "  def __repr__(self):\n",
        "    return f\"Value(data={self.data})\"\n",
        "  \n",
        "  def __add__(self, other):\n",
        "    out = Value(self.data + other.data, (self, other), '+')\n",
        "\n",
        "    def _backward():\n",
        "      self.grad += 1.0*out.grad\n",
        "      other.grad += 1.0*out.grad\n",
        "    out._backward = _backward\n",
        "    \n",
        "    return out\n",
        "  \n",
        "  def __mul__(self, other):\n",
        "    out = Value(self.data*other.data, (self, other), '*')\n",
        "\n",
        "    def _backward():\n",
        "      self.grad += other.data * out.grad\n",
        "      other.grad += self.data * out.grad\n",
        "    out._backward = _backward\n",
        "\n",
        "    return out\n",
        "\n",
        "  # for activation function\n",
        "  def tanh(self):\n",
        "    n = self.data\n",
        "    t = (math.exp(2*n)-1)/(math.exp(2*n)+1)\n",
        "    out = Value(t, (self, ), 'tanh')\n",
        "\n",
        "    def _backward():\n",
        "      self.grad = (1-t**2) * out.grad\n",
        "    out._backward = _backward\n",
        "\n",
        "    return out\n",
        "  \n",
        "  def backward(self): #topologically sorted back prop\n",
        "    topo = [] # Empty array containing the nodes in right order\n",
        "    visited = set() \n",
        "    def build_topo(v):\n",
        "      if v not in visited:\n",
        "        visited.add(v)\n",
        "      for child in v._prev:\n",
        "        build_topo(child)\n",
        "      topo.append(v)\n",
        "\n",
        "    build_topo(self)\n",
        "\n",
        "    self.grad = 1.0\n",
        "    ## Then implement _backward() method on this array sorted in topological order\n",
        "    for node in reversed(topo):\n",
        "      node._backward()"
      ],
      "metadata": {
        "id": "NnzRyv72EGMX"
      },
      "execution_count": null,
      "outputs": []
    },
    {
      "cell_type": "code",
      "source": [
        "# a = Value(-2.0, label = 'a')\n",
        "# b = a + a ; b.label = 'b'\n",
        "# b.backward()\n",
        "# draw_dot(b)"
      ],
      "metadata": {
        "colab": {
          "base_uri": "https://localhost:8080/",
          "height": 81
        },
        "id": "4Y0BXljSIqpF",
        "outputId": "d7806fe6-acd5-463c-fc31-b5b380724040"
      },
      "execution_count": null,
      "outputs": [
        {
          "output_type": "execute_result",
          "data": {
            "text/plain": [
              "<graphviz.dot.Digraph at 0x7f26e546e250>"
            ],
            "image/svg+xml": "<?xml version=\"1.0\" encoding=\"UTF-8\" standalone=\"no\"?>\n<!DOCTYPE svg PUBLIC \"-//W3C//DTD SVG 1.1//EN\"\n \"http://www.w3.org/Graphics/SVG/1.1/DTD/svg11.dtd\">\n<!-- Generated by graphviz version 2.40.1 (20161225.0304)\n -->\n<!-- Title: %3 Pages: 1 -->\n<svg width=\"533pt\" height=\"45pt\"\n viewBox=\"0.00 0.00 533.00 45.00\" xmlns=\"http://www.w3.org/2000/svg\" xmlns:xlink=\"http://www.w3.org/1999/xlink\">\n<g id=\"graph0\" class=\"graph\" transform=\"scale(1 1) rotate(0) translate(4 41)\">\n<title>%3</title>\n<polygon fill=\"#ffffff\" stroke=\"transparent\" points=\"-4,4 -4,-41 529,-41 529,4 -4,4\"/>\n<!-- 139805032112656 -->\n<g id=\"node1\" class=\"node\">\n<title>139805032112656</title>\n<polygon fill=\"none\" stroke=\"#000000\" points=\"0,-.5 0,-36.5 199,-36.5 199,-.5 0,-.5\"/>\n<text text-anchor=\"middle\" x=\"11.5\" y=\"-14.8\" font-family=\"Times,serif\" font-size=\"14.00\" fill=\"#000000\">a</text>\n<polyline fill=\"none\" stroke=\"#000000\" points=\"23,-.5 23,-36.5 \"/>\n<text text-anchor=\"middle\" x=\"67.5\" y=\"-14.8\" font-family=\"Times,serif\" font-size=\"14.00\" fill=\"#000000\">data &#45;2.0000</text>\n<polyline fill=\"none\" stroke=\"#000000\" points=\"112,-.5 112,-36.5 \"/>\n<text text-anchor=\"middle\" x=\"155.5\" y=\"-14.8\" font-family=\"Times,serif\" font-size=\"14.00\" fill=\"#000000\">grad 2.0000</text>\n</g>\n<!-- 139805032112848+ -->\n<g id=\"node3\" class=\"node\">\n<title>139805032112848+</title>\n<ellipse fill=\"none\" stroke=\"#000000\" cx=\"262\" cy=\"-18.5\" rx=\"27\" ry=\"18\"/>\n<text text-anchor=\"middle\" x=\"262\" y=\"-14.8\" font-family=\"Times,serif\" font-size=\"14.00\" fill=\"#000000\">+</text>\n</g>\n<!-- 139805032112656&#45;&gt;139805032112848+ -->\n<g id=\"edge2\" class=\"edge\">\n<title>139805032112656&#45;&gt;139805032112848+</title>\n<path fill=\"none\" stroke=\"#000000\" d=\"M199.1733,-18.5C208.1163,-18.5 216.7449,-18.5 224.5942,-18.5\"/>\n<polygon fill=\"#000000\" stroke=\"#000000\" points=\"224.7711,-22.0001 234.7711,-18.5 224.7711,-15.0001 224.7711,-22.0001\"/>\n</g>\n<!-- 139805032112848 -->\n<g id=\"node2\" class=\"node\">\n<title>139805032112848</title>\n<polygon fill=\"none\" stroke=\"#000000\" points=\"325,-.5 325,-36.5 525,-36.5 525,-.5 325,-.5\"/>\n<text text-anchor=\"middle\" x=\"337\" y=\"-14.8\" font-family=\"Times,serif\" font-size=\"14.00\" fill=\"#000000\">b</text>\n<polyline fill=\"none\" stroke=\"#000000\" points=\"349,-.5 349,-36.5 \"/>\n<text text-anchor=\"middle\" x=\"393.5\" y=\"-14.8\" font-family=\"Times,serif\" font-size=\"14.00\" fill=\"#000000\">data &#45;4.0000</text>\n<polyline fill=\"none\" stroke=\"#000000\" points=\"438,-.5 438,-36.5 \"/>\n<text text-anchor=\"middle\" x=\"481.5\" y=\"-14.8\" font-family=\"Times,serif\" font-size=\"14.00\" fill=\"#000000\">grad 1.0000</text>\n</g>\n<!-- 139805032112848+&#45;&gt;139805032112848 -->\n<g id=\"edge1\" class=\"edge\">\n<title>139805032112848+&#45;&gt;139805032112848</title>\n<path fill=\"none\" stroke=\"#000000\" d=\"M289.2825,-18.5C296.8033,-18.5 305.4515,-18.5 314.6639,-18.5\"/>\n<polygon fill=\"#000000\" stroke=\"#000000\" points=\"314.8552,-22.0001 324.8552,-18.5 314.8552,-15.0001 314.8552,-22.0001\"/>\n</g>\n</g>\n</svg>\n"
          },
          "metadata": {},
          "execution_count": 79
        }
      ]
    },
    {
      "cell_type": "code",
      "source": [
        "x1 = Value(2.0, label = 'x1')\n",
        "x2 = Value(0.0, label = 'x2')\n",
        "w1 = Value(-3.0, label = 'w1')\n",
        "w2 = Value(1.0, label = 'w2')\n",
        "b = Value(6.8813735870195432, label = 'b')\n",
        "\n",
        "x1w1 = x1*w1; x1w1.label = 'x1w1'\n",
        "x2w2 = x2*w2; x2w2.label = 'x2w2'\n",
        "x1w1x2w2 = x1w1 + x2w2; x1w1x2w2.label = 'x1w1x2w2'\n",
        "\n",
        "n = x1w1x2w2 + b; n.label = 'n'\n",
        "o = n.tanh(); o.label = 'o'\n",
        "draw_dot(o)\n",
        "\n",
        "o.backward()\n",
        "draw_dot(o)"
      ],
      "metadata": {
        "colab": {
          "base_uri": "https://localhost:8080/",
          "height": 321
        },
        "id": "2G56now_Imfh",
        "outputId": "e7fa6ad1-bc64-4d54-8cde-4d5f94103804"
      },
      "execution_count": null,
      "outputs": [
        {
          "output_type": "execute_result",
          "data": {
            "text/plain": [
              "<graphviz.dot.Digraph at 0x7f26e54bb310>"
            ],
            "image/svg+xml": "<?xml version=\"1.0\" encoding=\"UTF-8\" standalone=\"no\"?>\n<!DOCTYPE svg PUBLIC \"-//W3C//DTD SVG 1.1//EN\"\n \"http://www.w3.org/Graphics/SVG/1.1/DTD/svg11.dtd\">\n<!-- Generated by graphviz version 2.40.1 (20161225.0304)\n -->\n<!-- Title: %3 Pages: 1 -->\n<svg width=\"1600pt\" height=\"210pt\"\n viewBox=\"0.00 0.00 1600.00 210.00\" xmlns=\"http://www.w3.org/2000/svg\" xmlns:xlink=\"http://www.w3.org/1999/xlink\">\n<g id=\"graph0\" class=\"graph\" transform=\"scale(1 1) rotate(0) translate(4 206)\">\n<title>%3</title>\n<polygon fill=\"#ffffff\" stroke=\"transparent\" points=\"-4,4 -4,-206 1596,-206 1596,4 -4,4\"/>\n<!-- 139805032428048 -->\n<g id=\"node1\" class=\"node\">\n<title>139805032428048</title>\n<polygon fill=\"none\" stroke=\"#000000\" points=\"1396,-54.5 1396,-90.5 1592,-90.5 1592,-54.5 1396,-54.5\"/>\n<text text-anchor=\"middle\" x=\"1408\" y=\"-68.8\" font-family=\"Times,serif\" font-size=\"14.00\" fill=\"#000000\">o</text>\n<polyline fill=\"none\" stroke=\"#000000\" points=\"1420,-54.5 1420,-90.5 \"/>\n<text text-anchor=\"middle\" x=\"1462.5\" y=\"-68.8\" font-family=\"Times,serif\" font-size=\"14.00\" fill=\"#000000\">data 0.7071</text>\n<polyline fill=\"none\" stroke=\"#000000\" points=\"1505,-54.5 1505,-90.5 \"/>\n<text text-anchor=\"middle\" x=\"1548.5\" y=\"-68.8\" font-family=\"Times,serif\" font-size=\"14.00\" fill=\"#000000\">grad 1.0000</text>\n</g>\n<!-- 139805032428048tanh -->\n<g id=\"node2\" class=\"node\">\n<title>139805032428048tanh</title>\n<ellipse fill=\"none\" stroke=\"#000000\" cx=\"1333\" cy=\"-72.5\" rx=\"27\" ry=\"18\"/>\n<text text-anchor=\"middle\" x=\"1333\" y=\"-68.8\" font-family=\"Times,serif\" font-size=\"14.00\" fill=\"#000000\">tanh</text>\n</g>\n<!-- 139805032428048tanh&#45;&gt;139805032428048 -->\n<g id=\"edge1\" class=\"edge\">\n<title>139805032428048tanh&#45;&gt;139805032428048</title>\n<path fill=\"none\" stroke=\"#000000\" d=\"M1360.3115,-72.5C1367.8223,-72.5 1376.4512,-72.5 1385.6318,-72.5\"/>\n<polygon fill=\"#000000\" stroke=\"#000000\" points=\"1385.7835,-76.0001 1395.7835,-72.5 1385.7835,-69.0001 1385.7835,-76.0001\"/>\n</g>\n<!-- 139805032428112 -->\n<g id=\"node3\" class=\"node\">\n<title>139805032428112</title>\n<polygon fill=\"none\" stroke=\"#000000\" points=\"339,-110.5 339,-146.5 561,-146.5 561,-110.5 339,-110.5\"/>\n<text text-anchor=\"middle\" x=\"364\" y=\"-124.8\" font-family=\"Times,serif\" font-size=\"14.00\" fill=\"#000000\">x2w2</text>\n<polyline fill=\"none\" stroke=\"#000000\" points=\"389,-110.5 389,-146.5 \"/>\n<text text-anchor=\"middle\" x=\"431.5\" y=\"-124.8\" font-family=\"Times,serif\" font-size=\"14.00\" fill=\"#000000\">data 0.0000</text>\n<polyline fill=\"none\" stroke=\"#000000\" points=\"474,-110.5 474,-146.5 \"/>\n<text text-anchor=\"middle\" x=\"517.5\" y=\"-124.8\" font-family=\"Times,serif\" font-size=\"14.00\" fill=\"#000000\">grad 0.5000</text>\n</g>\n<!-- 139805032427664+ -->\n<g id=\"node8\" class=\"node\">\n<title>139805032427664+</title>\n<ellipse fill=\"none\" stroke=\"#000000\" cx=\"626\" cy=\"-100.5\" rx=\"27\" ry=\"18\"/>\n<text text-anchor=\"middle\" x=\"626\" y=\"-96.8\" font-family=\"Times,serif\" font-size=\"14.00\" fill=\"#000000\">+</text>\n</g>\n<!-- 139805032428112&#45;&gt;139805032427664+ -->\n<g id=\"edge8\" class=\"edge\">\n<title>139805032428112&#45;&gt;139805032427664+</title>\n<path fill=\"none\" stroke=\"#000000\" d=\"M561.4635,-110.7672C571.4544,-109.1777 581.0101,-107.6575 589.562,-106.297\"/>\n<polygon fill=\"#000000\" stroke=\"#000000\" points=\"590.1316,-109.7504 599.4575,-104.7227 589.0317,-102.8374 590.1316,-109.7504\"/>\n</g>\n<!-- 139805032428112* -->\n<g id=\"node4\" class=\"node\">\n<title>139805032428112*</title>\n<ellipse fill=\"none\" stroke=\"#000000\" cx=\"274\" cy=\"-128.5\" rx=\"27\" ry=\"18\"/>\n<text text-anchor=\"middle\" x=\"274\" y=\"-124.8\" font-family=\"Times,serif\" font-size=\"14.00\" fill=\"#000000\">*</text>\n</g>\n<!-- 139805032428112*&#45;&gt;139805032428112 -->\n<g id=\"edge2\" class=\"edge\">\n<title>139805032428112*&#45;&gt;139805032428112</title>\n<path fill=\"none\" stroke=\"#000000\" d=\"M301.1143,-128.5C309.1416,-128.5 318.4948,-128.5 328.5303,-128.5\"/>\n<polygon fill=\"#000000\" stroke=\"#000000\" points=\"328.7696,-132.0001 338.7695,-128.5 328.7695,-125.0001 328.7696,-132.0001\"/>\n</g>\n<!-- 139805032428688 -->\n<g id=\"node5\" class=\"node\">\n<title>139805032428688</title>\n<polygon fill=\"none\" stroke=\"#000000\" points=\"337,-55.5 337,-91.5 563,-91.5 563,-55.5 337,-55.5\"/>\n<text text-anchor=\"middle\" x=\"362\" y=\"-69.8\" font-family=\"Times,serif\" font-size=\"14.00\" fill=\"#000000\">x1w1</text>\n<polyline fill=\"none\" stroke=\"#000000\" points=\"387,-55.5 387,-91.5 \"/>\n<text text-anchor=\"middle\" x=\"431.5\" y=\"-69.8\" font-family=\"Times,serif\" font-size=\"14.00\" fill=\"#000000\">data &#45;6.0000</text>\n<polyline fill=\"none\" stroke=\"#000000\" points=\"476,-55.5 476,-91.5 \"/>\n<text text-anchor=\"middle\" x=\"519.5\" y=\"-69.8\" font-family=\"Times,serif\" font-size=\"14.00\" fill=\"#000000\">grad 0.5000</text>\n</g>\n<!-- 139805032428688&#45;&gt;139805032427664+ -->\n<g id=\"edge12\" class=\"edge\">\n<title>139805032428688&#45;&gt;139805032427664+</title>\n<path fill=\"none\" stroke=\"#000000\" d=\"M563.4534,-90.9048C572.7031,-92.3238 581.5424,-93.6798 589.5117,-94.9024\"/>\n<polygon fill=\"#000000\" stroke=\"#000000\" points=\"589.0334,-98.3699 599.4485,-96.4268 590.0949,-91.4508 589.0334,-98.3699\"/>\n</g>\n<!-- 139805032428688* -->\n<g id=\"node6\" class=\"node\">\n<title>139805032428688*</title>\n<ellipse fill=\"none\" stroke=\"#000000\" cx=\"274\" cy=\"-73.5\" rx=\"27\" ry=\"18\"/>\n<text text-anchor=\"middle\" x=\"274\" y=\"-69.8\" font-family=\"Times,serif\" font-size=\"14.00\" fill=\"#000000\">*</text>\n</g>\n<!-- 139805032428688*&#45;&gt;139805032428688 -->\n<g id=\"edge3\" class=\"edge\">\n<title>139805032428688*&#45;&gt;139805032428688</title>\n<path fill=\"none\" stroke=\"#000000\" d=\"M301.1143,-73.5C308.7002,-73.5 317.4701,-73.5 326.881,-73.5\"/>\n<polygon fill=\"#000000\" stroke=\"#000000\" points=\"326.8975,-77.0001 336.8974,-73.5 326.8974,-70.0001 326.8975,-77.0001\"/>\n</g>\n<!-- 139805032427664 -->\n<g id=\"node7\" class=\"node\">\n<title>139805032427664</title>\n<polygon fill=\"none\" stroke=\"#000000\" points=\"689,-82.5 689,-118.5 948,-118.5 948,-82.5 689,-82.5\"/>\n<text text-anchor=\"middle\" x=\"730.5\" y=\"-96.8\" font-family=\"Times,serif\" font-size=\"14.00\" fill=\"#000000\">x1w1x2w2</text>\n<polyline fill=\"none\" stroke=\"#000000\" points=\"772,-82.5 772,-118.5 \"/>\n<text text-anchor=\"middle\" x=\"816.5\" y=\"-96.8\" font-family=\"Times,serif\" font-size=\"14.00\" fill=\"#000000\">data &#45;6.0000</text>\n<polyline fill=\"none\" stroke=\"#000000\" points=\"861,-82.5 861,-118.5 \"/>\n<text text-anchor=\"middle\" x=\"904.5\" y=\"-96.8\" font-family=\"Times,serif\" font-size=\"14.00\" fill=\"#000000\">grad 0.5000</text>\n</g>\n<!-- 139805032431312+ -->\n<g id=\"node10\" class=\"node\">\n<title>139805032431312+</title>\n<ellipse fill=\"none\" stroke=\"#000000\" cx=\"1011\" cy=\"-72.5\" rx=\"27\" ry=\"18\"/>\n<text text-anchor=\"middle\" x=\"1011\" y=\"-68.8\" font-family=\"Times,serif\" font-size=\"14.00\" fill=\"#000000\">+</text>\n</g>\n<!-- 139805032427664&#45;&gt;139805032431312+ -->\n<g id=\"edge6\" class=\"edge\">\n<title>139805032427664&#45;&gt;139805032431312+</title>\n<path fill=\"none\" stroke=\"#000000\" d=\"M942.3184,-82.4901C953.8956,-80.8061 964.8916,-79.2067 974.5553,-77.801\"/>\n<polygon fill=\"#000000\" stroke=\"#000000\" points=\"975.091,-81.26 984.4831,-76.357 974.0834,-74.3329 975.091,-81.26\"/>\n</g>\n<!-- 139805032427664+&#45;&gt;139805032427664 -->\n<g id=\"edge4\" class=\"edge\">\n<title>139805032427664+&#45;&gt;139805032427664</title>\n<path fill=\"none\" stroke=\"#000000\" d=\"M653.1723,-100.5C660.7103,-100.5 669.4431,-100.5 678.8791,-100.5\"/>\n<polygon fill=\"#000000\" stroke=\"#000000\" points=\"678.9464,-104.0001 688.9464,-100.5 678.9463,-97.0001 678.9464,-104.0001\"/>\n</g>\n<!-- 139805032431312 -->\n<g id=\"node9\" class=\"node\">\n<title>139805032431312</title>\n<polygon fill=\"none\" stroke=\"#000000\" points=\"1074,-54.5 1074,-90.5 1270,-90.5 1270,-54.5 1074,-54.5\"/>\n<text text-anchor=\"middle\" x=\"1086\" y=\"-68.8\" font-family=\"Times,serif\" font-size=\"14.00\" fill=\"#000000\">n</text>\n<polyline fill=\"none\" stroke=\"#000000\" points=\"1098,-54.5 1098,-90.5 \"/>\n<text text-anchor=\"middle\" x=\"1140.5\" y=\"-68.8\" font-family=\"Times,serif\" font-size=\"14.00\" fill=\"#000000\">data 0.8814</text>\n<polyline fill=\"none\" stroke=\"#000000\" points=\"1183,-54.5 1183,-90.5 \"/>\n<text text-anchor=\"middle\" x=\"1226.5\" y=\"-68.8\" font-family=\"Times,serif\" font-size=\"14.00\" fill=\"#000000\">grad 0.5000</text>\n</g>\n<!-- 139805032431312&#45;&gt;139805032428048tanh -->\n<g id=\"edge7\" class=\"edge\">\n<title>139805032431312&#45;&gt;139805032428048tanh</title>\n<path fill=\"none\" stroke=\"#000000\" d=\"M1270.2922,-72.5C1279.2042,-72.5 1287.8099,-72.5 1295.6423,-72.5\"/>\n<polygon fill=\"#000000\" stroke=\"#000000\" points=\"1295.7996,-76.0001 1305.7995,-72.5 1295.7995,-69.0001 1295.7996,-76.0001\"/>\n</g>\n<!-- 139805032431312+&#45;&gt;139805032431312 -->\n<g id=\"edge5\" class=\"edge\">\n<title>139805032431312+&#45;&gt;139805032431312</title>\n<path fill=\"none\" stroke=\"#000000\" d=\"M1038.3115,-72.5C1045.8223,-72.5 1054.4512,-72.5 1063.6318,-72.5\"/>\n<polygon fill=\"#000000\" stroke=\"#000000\" points=\"1063.7835,-76.0001 1073.7835,-72.5 1063.7835,-69.0001 1063.7835,-76.0001\"/>\n</g>\n<!-- 139805032429776 -->\n<g id=\"node11\" class=\"node\">\n<title>139805032429776</title>\n<polygon fill=\"none\" stroke=\"#000000\" points=\"720.5,-27.5 720.5,-63.5 916.5,-63.5 916.5,-27.5 720.5,-27.5\"/>\n<text text-anchor=\"middle\" x=\"732.5\" y=\"-41.8\" font-family=\"Times,serif\" font-size=\"14.00\" fill=\"#000000\">b</text>\n<polyline fill=\"none\" stroke=\"#000000\" points=\"744.5,-27.5 744.5,-63.5 \"/>\n<text text-anchor=\"middle\" x=\"787\" y=\"-41.8\" font-family=\"Times,serif\" font-size=\"14.00\" fill=\"#000000\">data 6.8814</text>\n<polyline fill=\"none\" stroke=\"#000000\" points=\"829.5,-27.5 829.5,-63.5 \"/>\n<text text-anchor=\"middle\" x=\"873\" y=\"-41.8\" font-family=\"Times,serif\" font-size=\"14.00\" fill=\"#000000\">grad 0.5000</text>\n</g>\n<!-- 139805032429776&#45;&gt;139805032431312+ -->\n<g id=\"edge11\" class=\"edge\">\n<title>139805032429776&#45;&gt;139805032431312+</title>\n<path fill=\"none\" stroke=\"#000000\" d=\"M916.7238,-59.2768C937.2535,-62.1563 957.6635,-65.019 974.2156,-67.3406\"/>\n<polygon fill=\"#000000\" stroke=\"#000000\" points=\"974.1088,-70.8598 984.4981,-68.7828 975.0812,-63.9277 974.1088,-70.8598\"/>\n</g>\n<!-- 139805032430864 -->\n<g id=\"node12\" class=\"node\">\n<title>139805032430864</title>\n<polygon fill=\"none\" stroke=\"#000000\" points=\"1,-55.5 1,-91.5 210,-91.5 210,-55.5 1,-55.5\"/>\n<text text-anchor=\"middle\" x=\"17\" y=\"-69.8\" font-family=\"Times,serif\" font-size=\"14.00\" fill=\"#000000\">x1</text>\n<polyline fill=\"none\" stroke=\"#000000\" points=\"33,-55.5 33,-91.5 \"/>\n<text text-anchor=\"middle\" x=\"75.5\" y=\"-69.8\" font-family=\"Times,serif\" font-size=\"14.00\" fill=\"#000000\">data 2.0000</text>\n<polyline fill=\"none\" stroke=\"#000000\" points=\"118,-55.5 118,-91.5 \"/>\n<text text-anchor=\"middle\" x=\"164\" y=\"-69.8\" font-family=\"Times,serif\" font-size=\"14.00\" fill=\"#000000\">grad &#45;1.5000</text>\n</g>\n<!-- 139805032430864&#45;&gt;139805032428688* -->\n<g id=\"edge10\" class=\"edge\">\n<title>139805032430864&#45;&gt;139805032428688*</title>\n<path fill=\"none\" stroke=\"#000000\" d=\"M210.2974,-73.5C219.6043,-73.5 228.5549,-73.5 236.6562,-73.5\"/>\n<polygon fill=\"#000000\" stroke=\"#000000\" points=\"236.7755,-77.0001 246.7754,-73.5 236.7754,-70.0001 236.7755,-77.0001\"/>\n</g>\n<!-- 139805032429904 -->\n<g id=\"node13\" class=\"node\">\n<title>139805032429904</title>\n<polygon fill=\"none\" stroke=\"#000000\" points=\"2,-165.5 2,-201.5 209,-201.5 209,-165.5 2,-165.5\"/>\n<text text-anchor=\"middle\" x=\"19.5\" y=\"-179.8\" font-family=\"Times,serif\" font-size=\"14.00\" fill=\"#000000\">w2</text>\n<polyline fill=\"none\" stroke=\"#000000\" points=\"37,-165.5 37,-201.5 \"/>\n<text text-anchor=\"middle\" x=\"79.5\" y=\"-179.8\" font-family=\"Times,serif\" font-size=\"14.00\" fill=\"#000000\">data 1.0000</text>\n<polyline fill=\"none\" stroke=\"#000000\" points=\"122,-165.5 122,-201.5 \"/>\n<text text-anchor=\"middle\" x=\"165.5\" y=\"-179.8\" font-family=\"Times,serif\" font-size=\"14.00\" fill=\"#000000\">grad 0.0000</text>\n</g>\n<!-- 139805032429904&#45;&gt;139805032428112* -->\n<g id=\"edge13\" class=\"edge\">\n<title>139805032429904&#45;&gt;139805032428112*</title>\n<path fill=\"none\" stroke=\"#000000\" d=\"M182.3017,-165.4558C192.0361,-162.698 201.8026,-159.6955 211,-156.5 221.6243,-152.8088 232.9373,-148.0548 243.0021,-143.5155\"/>\n<polygon fill=\"#000000\" stroke=\"#000000\" points=\"244.5909,-146.6371 252.2061,-139.271 241.6594,-140.2805 244.5909,-146.6371\"/>\n</g>\n<!-- 139805032428432 -->\n<g id=\"node14\" class=\"node\">\n<title>139805032428432</title>\n<polygon fill=\"none\" stroke=\"#000000\" points=\"0,-.5 0,-36.5 211,-36.5 211,-.5 0,-.5\"/>\n<text text-anchor=\"middle\" x=\"17.5\" y=\"-14.8\" font-family=\"Times,serif\" font-size=\"14.00\" fill=\"#000000\">w1</text>\n<polyline fill=\"none\" stroke=\"#000000\" points=\"35,-.5 35,-36.5 \"/>\n<text text-anchor=\"middle\" x=\"79.5\" y=\"-14.8\" font-family=\"Times,serif\" font-size=\"14.00\" fill=\"#000000\">data &#45;3.0000</text>\n<polyline fill=\"none\" stroke=\"#000000\" points=\"124,-.5 124,-36.5 \"/>\n<text text-anchor=\"middle\" x=\"167.5\" y=\"-14.8\" font-family=\"Times,serif\" font-size=\"14.00\" fill=\"#000000\">grad 1.0000</text>\n</g>\n<!-- 139805032428432&#45;&gt;139805032428688* -->\n<g id=\"edge14\" class=\"edge\">\n<title>139805032428432&#45;&gt;139805032428688*</title>\n<path fill=\"none\" stroke=\"#000000\" d=\"M182.3017,-36.5442C192.0361,-39.302 201.8026,-42.3045 211,-45.5 221.6243,-49.1912 232.9373,-53.9452 243.0021,-58.4845\"/>\n<polygon fill=\"#000000\" stroke=\"#000000\" points=\"241.6594,-61.7195 252.2061,-62.729 244.5909,-55.3629 241.6594,-61.7195\"/>\n</g>\n<!-- 139805032427984 -->\n<g id=\"node15\" class=\"node\">\n<title>139805032427984</title>\n<polygon fill=\"none\" stroke=\"#000000\" points=\"3.5,-110.5 3.5,-146.5 207.5,-146.5 207.5,-110.5 3.5,-110.5\"/>\n<text text-anchor=\"middle\" x=\"19.5\" y=\"-124.8\" font-family=\"Times,serif\" font-size=\"14.00\" fill=\"#000000\">x2</text>\n<polyline fill=\"none\" stroke=\"#000000\" points=\"35.5,-110.5 35.5,-146.5 \"/>\n<text text-anchor=\"middle\" x=\"78\" y=\"-124.8\" font-family=\"Times,serif\" font-size=\"14.00\" fill=\"#000000\">data 0.0000</text>\n<polyline fill=\"none\" stroke=\"#000000\" points=\"120.5,-110.5 120.5,-146.5 \"/>\n<text text-anchor=\"middle\" x=\"164\" y=\"-124.8\" font-family=\"Times,serif\" font-size=\"14.00\" fill=\"#000000\">grad 0.5000</text>\n</g>\n<!-- 139805032427984&#45;&gt;139805032428112* -->\n<g id=\"edge9\" class=\"edge\">\n<title>139805032427984&#45;&gt;139805032428112*</title>\n<path fill=\"none\" stroke=\"#000000\" d=\"M207.888,-128.5C218.0786,-128.5 227.8975,-128.5 236.7094,-128.5\"/>\n<polygon fill=\"#000000\" stroke=\"#000000\" points=\"236.9159,-132.0001 246.9159,-128.5 236.9158,-125.0001 236.9159,-132.0001\"/>\n</g>\n</g>\n</svg>\n"
          },
          "metadata": {},
          "execution_count": 80
        }
      ]
    },
    {
      "cell_type": "code",
      "source": [
        ""
      ],
      "metadata": {
        "id": "4h7GNd4HItGo"
      },
      "execution_count": null,
      "outputs": []
    }
  ]
}